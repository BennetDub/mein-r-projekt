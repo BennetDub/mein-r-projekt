{
 "cells": [
  {
   "cell_type": "code",
   "execution_count": 4,
   "id": "a98188cd-4303-412b-851c-9dfa22852c66",
   "metadata": {},
   "outputs": [
    {
     "name": "stderr",
     "output_type": "stream",
     "text": [
      "'getOption(\"repos\")' replaces Bioconductor standard repositories, see\n",
      "'help(\"repositories\", package = \"BiocManager\")' for details.\n",
      "Replacement repositories:\n",
      "    CRAN: https://cran.r-project.org\n",
      "\n",
      "Bioconductor version 3.21 (BiocManager 1.30.26), R 4.5.1 (2025-06-13)\n",
      "\n",
      "Installing package(s) 'hipathia'\n",
      "\n",
      "also installing the dependencies ‘rbibutils’, ‘modelr’, ‘microbenchmark’, ‘Rdpack’, ‘fs’, ‘sys’, ‘doBy’, ‘SparseM’, ‘MatrixModels’, ‘minqa’, ‘nloptr’, ‘reformulas’, ‘RcppEigen’, ‘sass’, ‘bit’, ‘cachem’, ‘png’, ‘Biostrings’, ‘askpass’, ‘MASS’, ‘zoo’, ‘backports’, ‘mgcv’, ‘nnet’, ‘pbkrtest’, ‘quantreg’, ‘lme4’, ‘nlme’, ‘highr’, ‘bslib’, ‘tinytex’, ‘lattice’, ‘dbplyr’, ‘filelock’, ‘bit64’, ‘memoise’, ‘KEGGREST’, ‘openssl’, ‘XVector’, ‘UCSC.utils’, ‘TH.data’, ‘sandwich’, ‘later’, ‘promises’, ‘farver’, ‘broom’, ‘car’, ‘knitr’, ‘rmarkdown’, ‘stringi’, ‘magrittr’, ‘Matrix’, ‘BiocFileCache’, ‘RSQLite’, ‘curl’, ‘rappdirs’, ‘AnnotationDbi’, ‘httr’, ‘yaml’, ‘Biobase’, ‘GenomicRanges’, ‘IRanges’, ‘tidyr’, ‘MatrixGenerics’, ‘GenomeInfoDb’, ‘S4Arrays’, ‘survival’, ‘libcoin’, ‘mvtnorm’, ‘multcomp’, ‘statmod’, ‘mime’, ‘httpuv’, ‘xfun’, ‘SparseArray’, ‘isoband’, ‘S7’, ‘scales’, ‘ggrepel’, ‘ggsci’, ‘purrr’, ‘cowplot’, ‘ggsignif’, ‘rstatix’, ‘htmlwidgets’, ‘plyr’, ‘Rcpp’, ‘stringr’, ‘igraph’, ‘AnnotationHub’, ‘MultiAssayExperiment’, ‘SummarizedExperiment’, ‘coin’, ‘limma’, ‘preprocessCore’, ‘servr’, ‘DelayedArray’, ‘matrixStats’, ‘S4Vectors’, ‘ggplot2’, ‘ggpubr’, ‘dplyr’, ‘tibble’, ‘visNetwork’, ‘reshape2’, ‘MetBrewer’\n",
      "\n",
      "\n",
      "Warning message in install.packages(...):\n",
      "“installation of package ‘rbibutils’ had non-zero exit status”\n",
      "Warning message in install.packages(...):\n",
      "“installation of package ‘microbenchmark’ had non-zero exit status”\n",
      "Warning message in install.packages(...):\n",
      "“installation of package ‘fs’ had non-zero exit status”\n",
      "Warning message in install.packages(...):\n",
      "“installation of package ‘sys’ had non-zero exit status”\n",
      "Warning message in install.packages(...):\n",
      "“installation of package ‘SparseM’ had non-zero exit status”\n",
      "Warning message in install.packages(...):\n",
      "“installation of package ‘nloptr’ had non-zero exit status”\n",
      "Warning message in install.packages(...):\n",
      "“installation of package ‘bit’ had non-zero exit status”\n",
      "Warning message in install.packages(...):\n",
      "“installation of package ‘cachem’ had non-zero exit status”\n",
      "Warning message in install.packages(...):\n",
      "“installation of package ‘png’ had non-zero exit status”\n",
      "Warning message in install.packages(...):\n",
      "“installation of package ‘MASS’ had non-zero exit status”\n",
      "Warning message in install.packages(...):\n",
      "“installation of package ‘backports’ had non-zero exit status”\n",
      "Warning message in install.packages(...):\n",
      "“installation of package ‘nnet’ had non-zero exit status”\n",
      "Warning message in install.packages(...):\n",
      "“installation of package ‘lattice’ had non-zero exit status”\n",
      "Warning message in install.packages(...):\n",
      "“installation of package ‘filelock’ had non-zero exit status”\n",
      "Warning message in install.packages(...):\n",
      "“installation of package ‘farver’ had non-zero exit status”\n",
      "Warning message in install.packages(...):\n",
      "“installation of package ‘stringi’ had non-zero exit status”\n",
      "Warning message in install.packages(...):\n",
      "“installation of package ‘magrittr’ had non-zero exit status”\n",
      "Warning message in install.packages(...):\n",
      "“installation of package ‘curl’ had non-zero exit status”\n",
      "Warning message in install.packages(...):\n",
      "“installation of package ‘rappdirs’ had non-zero exit status”\n",
      "Warning message in install.packages(...):\n",
      "“installation of package ‘yaml’ had non-zero exit status”\n",
      "Warning message in install.packages(...):\n",
      "“installation of package ‘Biobase’ had non-zero exit status”\n",
      "Warning message in install.packages(...):\n",
      "“installation of package ‘mvtnorm’ had non-zero exit status”\n",
      "Warning message in install.packages(...):\n",
      "“installation of package ‘statmod’ had non-zero exit status”\n",
      "Warning message in install.packages(...):\n",
      "“installation of package ‘mime’ had non-zero exit status”\n",
      "Warning message in install.packages(...):\n",
      "“installation of package ‘xfun’ had non-zero exit status”\n",
      "Warning message in install.packages(...):\n",
      "“installation of package ‘isoband’ had non-zero exit status”\n",
      "Warning message in install.packages(...):\n",
      "“installation of package ‘S7’ had non-zero exit status”\n",
      "Warning message in install.packages(...):\n",
      "“installation of package ‘Rcpp’ had non-zero exit status”\n",
      "Warning message in install.packages(...):\n",
      "“installation of package ‘preprocessCore’ had non-zero exit status”\n",
      "Warning message in install.packages(...):\n",
      "“installation of package ‘matrixStats’ had non-zero exit status”\n",
      "Warning message in install.packages(...):\n",
      "“installation of package ‘S4Vectors’ had non-zero exit status”\n",
      "Warning message in install.packages(...):\n",
      "“installation of package ‘Rdpack’ had non-zero exit status”\n",
      "Warning message in install.packages(...):\n",
      "“installation of package ‘minqa’ had non-zero exit status”\n",
      "Warning message in install.packages(...):\n",
      "“installation of package ‘RcppEigen’ had non-zero exit status”\n",
      "Warning message in install.packages(...):\n",
      "“installation of package ‘sass’ had non-zero exit status”\n",
      "Warning message in install.packages(...):\n",
      "“installation of package ‘askpass’ had non-zero exit status”\n",
      "Warning message in install.packages(...):\n",
      "“installation of package ‘zoo’ had non-zero exit status”\n",
      "Warning message in install.packages(...):\n",
      "“installation of package ‘nlme’ had non-zero exit status”\n",
      "Warning message in install.packages(...):\n",
      "“installation of package ‘highr’ had non-zero exit status”\n",
      "Warning message in install.packages(...):\n",
      "“installation of package ‘tinytex’ had non-zero exit status”\n",
      "Warning message in install.packages(...):\n",
      "“installation of package ‘bit64’ had non-zero exit status”\n",
      "Warning message in install.packages(...):\n",
      "“installation of package ‘memoise’ had non-zero exit status”\n",
      "Warning message in install.packages(...):\n",
      "“installation of package ‘later’ had non-zero exit status”\n",
      "Warning message in install.packages(...):\n",
      "“installation of package ‘Matrix’ had non-zero exit status”\n",
      "Warning message in install.packages(...):\n",
      "“installation of package ‘IRanges’ had non-zero exit status”\n",
      "Warning message in install.packages(...):\n",
      "“installation of package ‘MatrixGenerics’ had non-zero exit status”\n",
      "Warning message in install.packages(...):\n",
      "“installation of package ‘libcoin’ had non-zero exit status”\n",
      "Warning message in install.packages(...):\n",
      "“installation of package ‘scales’ had non-zero exit status”\n",
      "Warning message in install.packages(...):\n",
      "“installation of package ‘purrr’ had non-zero exit status”\n",
      "Warning message in install.packages(...):\n",
      "“installation of package ‘plyr’ had non-zero exit status”\n",
      "Warning message in install.packages(...):\n",
      "“installation of package ‘stringr’ had non-zero exit status”\n",
      "Warning message in install.packages(...):\n",
      "“installation of package ‘limma’ had non-zero exit status”\n",
      "Warning message in install.packages(...):\n",
      "“installation of package ‘tibble’ had non-zero exit status”\n",
      "Warning message in install.packages(...):\n",
      "“installation of package ‘MatrixModels’ had non-zero exit status”\n",
      "Warning message in install.packages(...):\n",
      "“installation of package ‘reformulas’ had non-zero exit status”\n",
      "Warning message in install.packages(...):\n",
      "“installation of package ‘mgcv’ had non-zero exit status”\n",
      "Warning message in install.packages(...):\n",
      "“installation of package ‘bslib’ had non-zero exit status”\n",
      "Warning message in install.packages(...):\n",
      "“installation of package ‘openssl’ had non-zero exit status”\n",
      "Warning message in install.packages(...):\n",
      "“installation of package ‘XVector’ had non-zero exit status”\n",
      "Warning message in install.packages(...):\n",
      "“installation of package ‘sandwich’ had non-zero exit status”\n",
      "Warning message in install.packages(...):\n",
      "“installation of package ‘promises’ had non-zero exit status”\n",
      "Warning message in install.packages(...):\n",
      "“installation of package ‘knitr’ had non-zero exit status”\n",
      "Warning message in install.packages(...):\n",
      "“installation of package ‘RSQLite’ had non-zero exit status”\n",
      "Warning message in install.packages(...):\n",
      "“installation of package ‘S4Arrays’ had non-zero exit status”\n",
      "Warning message in install.packages(...):\n",
      "“installation of package ‘survival’ had non-zero exit status”\n",
      "Warning message in install.packages(...):\n",
      "“installation of package ‘igraph’ had non-zero exit status”\n",
      "Warning message in install.packages(...):\n",
      "“installation of package ‘ggplot2’ had non-zero exit status”\n",
      "Warning message in install.packages(...):\n",
      "“installation of package ‘dplyr’ had non-zero exit status”\n",
      "Warning message in install.packages(...):\n",
      "“installation of package ‘reshape2’ had non-zero exit status”\n",
      "Warning message in install.packages(...):\n",
      "“installation of package ‘quantreg’ had non-zero exit status”\n",
      "Warning message in install.packages(...):\n",
      "“installation of package ‘lme4’ had non-zero exit status”\n",
      "Warning message in install.packages(...):\n",
      "“installation of package ‘TH.data’ had non-zero exit status”\n",
      "Warning message in install.packages(...):\n",
      "“installation of package ‘rmarkdown’ had non-zero exit status”\n",
      "Warning message in install.packages(...):\n",
      "“installation of package ‘httr’ had non-zero exit status”\n",
      "Warning message in install.packages(...):\n",
      "“installation of package ‘tidyr’ had non-zero exit status”\n",
      "Warning message in install.packages(...):\n",
      "“installation of package ‘httpuv’ had non-zero exit status”\n",
      "Warning message in install.packages(...):\n",
      "“installation of package ‘SparseArray’ had non-zero exit status”\n",
      "Warning message in install.packages(...):\n",
      "“installation of package ‘ggrepel’ had non-zero exit status”\n",
      "Warning message in install.packages(...):\n",
      "“installation of package ‘ggsci’ had non-zero exit status”\n",
      "Warning message in install.packages(...):\n",
      "“installation of package ‘cowplot’ had non-zero exit status”\n",
      "Warning message in install.packages(...):\n",
      "“installation of package ‘ggsignif’ had non-zero exit status”\n",
      "Warning message in install.packages(...):\n",
      "“installation of package ‘MetBrewer’ had non-zero exit status”\n",
      "Warning message in install.packages(...):\n",
      "“installation of package ‘dbplyr’ had non-zero exit status”\n",
      "Warning message in install.packages(...):\n",
      "“installation of package ‘UCSC.utils’ had non-zero exit status”\n",
      "Warning message in install.packages(...):\n",
      "“installation of package ‘broom’ had non-zero exit status”\n",
      "Warning message in install.packages(...):\n",
      "“installation of package ‘multcomp’ had non-zero exit status”\n",
      "Warning message in install.packages(...):\n",
      "“installation of package ‘htmlwidgets’ had non-zero exit status”\n",
      "Warning message in install.packages(...):\n",
      "“installation of package ‘servr’ had non-zero exit status”\n",
      "Warning message in install.packages(...):\n",
      "“installation of package ‘DelayedArray’ had non-zero exit status”\n",
      "Warning message in install.packages(...):\n",
      "“installation of package ‘modelr’ had non-zero exit status”\n",
      "Warning message in install.packages(...):\n",
      "“installation of package ‘BiocFileCache’ had non-zero exit status”\n",
      "Warning message in install.packages(...):\n",
      "“installation of package ‘GenomeInfoDb’ had non-zero exit status”\n",
      "Warning message in install.packages(...):\n",
      "“installation of package ‘coin’ had non-zero exit status”\n",
      "Warning message in install.packages(...):\n",
      "“installation of package ‘visNetwork’ had non-zero exit status”\n",
      "Warning message in install.packages(...):\n",
      "“installation of package ‘doBy’ had non-zero exit status”\n",
      "Warning message in install.packages(...):\n",
      "“installation of package ‘Biostrings’ had non-zero exit status”\n",
      "Warning message in install.packages(...):\n",
      "“installation of package ‘GenomicRanges’ had non-zero exit status”\n",
      "Warning message in install.packages(...):\n",
      "“installation of package ‘pbkrtest’ had non-zero exit status”\n",
      "Warning message in install.packages(...):\n",
      "“installation of package ‘KEGGREST’ had non-zero exit status”\n",
      "Warning message in install.packages(...):\n",
      "“installation of package ‘SummarizedExperiment’ had non-zero exit status”\n",
      "Warning message in install.packages(...):\n",
      "“installation of package ‘car’ had non-zero exit status”\n",
      "Warning message in install.packages(...):\n",
      "“installation of package ‘AnnotationDbi’ had non-zero exit status”\n",
      "Warning message in install.packages(...):\n",
      "“installation of package ‘MultiAssayExperiment’ had non-zero exit status”\n",
      "Warning message in install.packages(...):\n",
      "“installation of package ‘rstatix’ had non-zero exit status”\n",
      "Warning message in install.packages(...):\n",
      "“installation of package ‘AnnotationHub’ had non-zero exit status”\n",
      "Warning message in install.packages(...):\n",
      "“installation of package ‘ggpubr’ had non-zero exit status”\n",
      "Warning message in install.packages(...):\n",
      "“installation of package ‘hipathia’ had non-zero exit status”\n",
      "Updating HTML index of packages in '.Library'\n",
      "\n",
      "Making 'packages.html' ...\n",
      " done\n",
      "\n",
      "'getOption(\"repos\")' replaces Bioconductor standard repositories, see\n",
      "'help(\"repositories\", package = \"BiocManager\")' for details.\n",
      "Replacement repositories:\n",
      "    CRAN: https://cran.r-project.org\n",
      "\n",
      "Bioconductor version 3.21 (BiocManager 1.30.26), R 4.5.1 (2025-06-13)\n",
      "\n",
      "Installing package(s) 'SummarizedExperiment'\n",
      "\n",
      "also installing the dependencies ‘sys’, ‘askpass’, ‘curl’, ‘mime’, ‘openssl’, ‘httr’, ‘matrixStats’, ‘XVector’, ‘lattice’, ‘UCSC.utils’, ‘SparseArray’, ‘MatrixGenerics’, ‘GenomicRanges’, ‘Biobase’, ‘Matrix’, ‘S4Vectors’, ‘IRanges’, ‘GenomeInfoDb’, ‘S4Arrays’, ‘DelayedArray’\n",
      "\n",
      "\n",
      "Warning message in install.packages(...):\n",
      "“installation of package ‘sys’ had non-zero exit status”\n",
      "Warning message in install.packages(...):\n",
      "“installation of package ‘curl’ had non-zero exit status”\n",
      "Warning message in install.packages(...):\n",
      "“installation of package ‘mime’ had non-zero exit status”\n",
      "Warning message in install.packages(...):\n",
      "“installation of package ‘matrixStats’ had non-zero exit status”\n",
      "Warning message in install.packages(...):\n",
      "“installation of package ‘lattice’ had non-zero exit status”\n",
      "Warning message in install.packages(...):\n",
      "“installation of package ‘Biobase’ had non-zero exit status”\n",
      "Warning message in install.packages(...):\n",
      "“installation of package ‘S4Vectors’ had non-zero exit status”\n",
      "Warning message in install.packages(...):\n",
      "“installation of package ‘askpass’ had non-zero exit status”\n",
      "Warning message in install.packages(...):\n",
      "“installation of package ‘MatrixGenerics’ had non-zero exit status”\n",
      "Warning message in install.packages(...):\n",
      "“installation of package ‘Matrix’ had non-zero exit status”\n",
      "Warning message in install.packages(...):\n",
      "“installation of package ‘IRanges’ had non-zero exit status”\n",
      "Warning message in install.packages(...):\n",
      "“installation of package ‘openssl’ had non-zero exit status”\n",
      "Warning message in install.packages(...):\n",
      "“installation of package ‘XVector’ had non-zero exit status”\n",
      "Warning message in install.packages(...):\n",
      "“installation of package ‘S4Arrays’ had non-zero exit status”\n",
      "Warning message in install.packages(...):\n",
      "“installation of package ‘httr’ had non-zero exit status”\n",
      "Warning message in install.packages(...):\n",
      "“installation of package ‘SparseArray’ had non-zero exit status”\n",
      "Warning message in install.packages(...):\n",
      "“installation of package ‘UCSC.utils’ had non-zero exit status”\n",
      "Warning message in install.packages(...):\n",
      "“installation of package ‘DelayedArray’ had non-zero exit status”\n",
      "Warning message in install.packages(...):\n",
      "“installation of package ‘GenomeInfoDb’ had non-zero exit status”\n",
      "Warning message in install.packages(...):\n",
      "“installation of package ‘GenomicRanges’ had non-zero exit status”\n",
      "Warning message in install.packages(...):\n",
      "“installation of package ‘SummarizedExperiment’ had non-zero exit status”\n",
      "Updating HTML index of packages in '.Library'\n",
      "\n",
      "Making 'packages.html' ...\n",
      " done\n",
      "\n",
      "'getOption(\"repos\")' replaces Bioconductor standard repositories, see\n",
      "'help(\"repositories\", package = \"BiocManager\")' for details.\n",
      "Replacement repositories:\n",
      "    CRAN: https://cran.r-project.org\n",
      "\n",
      "Bioconductor version 3.21 (BiocManager 1.30.26), R 4.5.1 (2025-06-13)\n",
      "\n",
      "Installing package(s) 'S4Vectors'\n",
      "\n",
      "Warning message in install.packages(...):\n",
      "“installation of package ‘S4Vectors’ had non-zero exit status”\n",
      "Updating HTML index of packages in '.Library'\n",
      "\n",
      "Making 'packages.html' ...\n",
      " done\n",
      "\n",
      "'getOption(\"repos\")' replaces Bioconductor standard repositories, see\n",
      "'help(\"repositories\", package = \"BiocManager\")' for details.\n",
      "Replacement repositories:\n",
      "    CRAN: https://cran.r-project.org\n",
      "\n",
      "Bioconductor version 3.21 (BiocManager 1.30.26), R 4.5.1 (2025-06-13)\n",
      "\n",
      "Installing package(s) 'limma'\n",
      "\n",
      "also installing the dependency ‘statmod’\n",
      "\n",
      "\n",
      "Warning message in install.packages(...):\n",
      "“installation of package ‘statmod’ had non-zero exit status”\n",
      "Warning message in install.packages(...):\n",
      "“installation of package ‘limma’ had non-zero exit status”\n",
      "Updating HTML index of packages in '.Library'\n",
      "\n",
      "Making 'packages.html' ...\n",
      " done\n",
      "\n"
     ]
    },
    {
     "ename": "ERROR",
     "evalue": "Error in library(hipathia): there is no package called ‘hipathia’\n",
     "output_type": "error",
     "traceback": [
      "Error in library(hipathia): there is no package called ‘hipathia’\nTraceback:\n",
      "1. withVisible(eval(ei, envir))",
      "2. eval(ei, envir)",
      "3. eval(ei, envir)",
      "4. suppressPackageStartupMessages({\n .     library(hipathia)\n .     library(SummarizedExperiment)\n .     library(S4Vectors)\n .     library(limma)\n . })",
      "5. withCallingHandlers(expr, packageStartupMessage = function(c) tryInvokeRestart(\"muffleMessage\"))",
      "6. library(hipathia)",
      "7. stop(packageNotFoundError(package, lib.loc, sys.call()))"
     ]
    }
   ],
   "source": [
    "source (\"Script Hipathia.R\")\n"
   ]
  },
  {
   "cell_type": "code",
   "execution_count": 5,
   "id": "de707920-56f5-4360-8045-ba084ad80664",
   "metadata": {},
   "outputs": [
    {
     "ename": "ERROR",
     "evalue": "Error in detach(\"package:BiocManager\", unload = TRUE, character.only = TRUE): invalid 'name' argument\n",
     "output_type": "error",
     "traceback": [
      "Error in detach(\"package:BiocManager\", unload = TRUE, character.only = TRUE): invalid 'name' argument\nTraceback:\n",
      "1. stop(\"invalid 'name' argument\")",
      "2. .handleSimpleError(function (cnd) \n . {\n .     watcher$capture_plot_and_output()\n .     cnd <- sanitize_call(cnd)\n .     watcher$push(cnd)\n .     switch(on_error, continue = invokeRestart(\"eval_continue\"), \n .         stop = invokeRestart(\"eval_stop\"), error = NULL)\n . }, \"invalid 'name' argument\", base::quote(detach(\"package:BiocManager\", \n .     unload = TRUE, character.only = TRUE)))"
     ]
    }
   ],
   "source": [
    "# 0) Sauberer Start\n",
    "detach(\"package:BiocManager\", unload = TRUE, character.only = TRUE) # ignorieren, falls Fehler\n",
    "options(repos = NULL)\n",
    "\n",
    "# 1) BiocManager sicher installieren/aktivieren\n",
    "install.packages(\"BiocManager\")\n",
    "library(BiocManager)\n",
    "\n",
    "# 2) Bioconductor-Repos korrekt setzen\n",
    "options(repos = BiocManager::repositories())   # WICHTIG\n",
    "getOption(\"repos\")                              # prüfen: sollte BioCsoftware usw. enthalten\n",
    "\n",
    "# 3) Build-Tools & Download-Fähigkeit prüfen\n",
    "capabilities(\"libcurl\")\n",
    "Sys.which(\"make\")\n",
    "if (requireNamespace(\"pkgbuild\", quietly = TRUE)) pkgbuild::has_build_tools(debug = TRUE)\n",
    "\n",
    "# 4) Kernabhängigkeiten zuerst, dann hipathia\n",
    "BiocManager::install(c(\n",
    "  \"S4Vectors\",\"IRanges\",\"XVector\",\"GenomeInfoDb\",\"GenomicRanges\",\n",
    "  \"MatrixGenerics\",\"S4Arrays\",\"SparseArray\",\"DelayedArray\",\"UCSC.utils\",\n",
    "  \"SummarizedExperiment\",\"limma\",\"hipathia\"\n",
    "), update = TRUE, ask = FALSE)\n",
    "\n",
    "# 5) Problematische CRAN-Abhängigkeiten nachziehen\n",
    "install.packages(c(\"Matrix\",\"httr\",\"openssl\",\"askpass\"), Ncpus = max(1, parallel::detectCores()-1))\n",
    "\n",
    "# 6) Test\n",
    "library(hipathia); library(SummarizedExperiment); library(limma)\n",
    "\n"
   ]
  },
  {
   "cell_type": "code",
   "execution_count": 6,
   "id": "b08e536f-98bf-4649-a56d-ccafac26430a",
   "metadata": {},
   "outputs": [
    {
     "name": "stderr",
     "output_type": "stream",
     "text": [
      "Warning message in install.packages(\"BiocManager\"):\n",
      "“installation of package ‘BiocManager’ had non-zero exit status”\n"
     ]
    },
    {
     "data": {
      "text/html": [
       "<style>\n",
       ".dl-inline {width: auto; margin:0; padding: 0}\n",
       ".dl-inline>dt, .dl-inline>dd {float: none; width: auto; display: inline-block}\n",
       ".dl-inline>dt::after {content: \":\\0020\"; padding-right: .5ex}\n",
       ".dl-inline>dt:not(:first-of-type) {padding-left: .5ex}\n",
       "</style><dl class=dl-inline><dt>BioCsoft</dt><dd>'https://bioconductor.org/packages/3.21/bioc'</dd><dt>BioCann</dt><dd>'https://bioconductor.org/packages/3.21/data/annotation'</dd><dt>BioCexp</dt><dd>'https://bioconductor.org/packages/3.21/data/experiment'</dd><dt>BioCworkflows</dt><dd>'https://bioconductor.org/packages/3.21/workflows'</dd><dt>BioCbooks</dt><dd>'https://bioconductor.org/packages/3.21/books'</dd></dl>\n"
      ],
      "text/latex": [
       "\\begin{description*}\n",
       "\\item[BioCsoft] 'https://bioconductor.org/packages/3.21/bioc'\n",
       "\\item[BioCann] 'https://bioconductor.org/packages/3.21/data/annotation'\n",
       "\\item[BioCexp] 'https://bioconductor.org/packages/3.21/data/experiment'\n",
       "\\item[BioCworkflows] 'https://bioconductor.org/packages/3.21/workflows'\n",
       "\\item[BioCbooks] 'https://bioconductor.org/packages/3.21/books'\n",
       "\\end{description*}\n"
      ],
      "text/markdown": [
       "BioCsoft\n",
       ":   'https://bioconductor.org/packages/3.21/bioc'BioCann\n",
       ":   'https://bioconductor.org/packages/3.21/data/annotation'BioCexp\n",
       ":   'https://bioconductor.org/packages/3.21/data/experiment'BioCworkflows\n",
       ":   'https://bioconductor.org/packages/3.21/workflows'BioCbooks\n",
       ":   'https://bioconductor.org/packages/3.21/books'\n",
       "\n"
      ],
      "text/plain": [
       "                                                BioCsoft \n",
       "           \"https://bioconductor.org/packages/3.21/bioc\" \n",
       "                                                 BioCann \n",
       "\"https://bioconductor.org/packages/3.21/data/annotation\" \n",
       "                                                 BioCexp \n",
       "\"https://bioconductor.org/packages/3.21/data/experiment\" \n",
       "                                           BioCworkflows \n",
       "      \"https://bioconductor.org/packages/3.21/workflows\" \n",
       "                                               BioCbooks \n",
       "          \"https://bioconductor.org/packages/3.21/books\" "
      ]
     },
     "metadata": {},
     "output_type": "display_data"
    }
   ],
   "source": [
    "# Repos zurücksetzen auf Bioconductor-Defaults\n",
    "options(repos = NULL)\n",
    "\n",
    "# BiocManager installieren (falls fehlt oder kaputt)\n",
    "install.packages(\"BiocManager\")\n",
    "\n",
    "# BiocManager laden\n",
    "library(BiocManager)\n",
    "\n",
    "# Repos explizit setzen -> jetzt sollten BioC-Channel sichtbar sein\n",
    "options(repos = BiocManager::repositories())\n",
    "getOption(\"repos\")   # prüfen: sollte \"BioCsoft\", \"BioCann\", \"BioCexp\", CRAN etc. enthalten\n",
    "\n"
   ]
  },
  {
   "cell_type": "code",
   "execution_count": 7,
   "id": "1e9c0938-db1b-43e9-afbd-0ff8c8cb62e9",
   "metadata": {},
   "outputs": [
    {
     "name": "stdout",
     "output_type": "stream",
     "text": [
      "R: R version 4.5.1 (2025-06-13) \n",
      "[1] \"/mnt/lustre/home/bdubiel/software/miniconda/envs/jlab-r/lib/R/library\"\n"
     ]
    },
    {
     "name": "stderr",
     "output_type": "stream",
     "text": [
      "Write test: TRUE\n",
      "\n"
     ]
    },
    {
     "name": "stdout",
     "output_type": "stream",
     "text": [
      "       jpeg         png        tiff       tcltk         X11        aqua \n",
      "       TRUE        TRUE        TRUE        TRUE        TRUE       FALSE \n",
      "   http/ftp     sockets      libxml        fifo      cledit       iconv \n",
      "       TRUE        TRUE       FALSE        TRUE       FALSE        TRUE \n",
      "        NLS       Rprof     profmem       cairo         ICU long.double \n",
      "       TRUE        TRUE        TRUE        TRUE        TRUE        TRUE \n",
      "    libcurl \n",
      "       TRUE \n"
     ]
    },
    {
     "data": {
      "text/html": [
       "<style>\n",
       ".dl-inline {width: auto; margin:0; padding: 0}\n",
       ".dl-inline>dt, .dl-inline>dd {float: none; width: auto; display: inline-block}\n",
       ".dl-inline>dt::after {content: \":\\0020\"; padding-right: .5ex}\n",
       ".dl-inline>dt:not(:first-of-type) {padding-left: .5ex}\n",
       "</style><dl class=dl-inline><dt>http_proxy</dt><dd>''</dd><dt>https_proxy</dt><dd>''</dd><dt>SSL_CERT_FILE</dt><dd>''</dd><dt>CURL_CA_BUNDLE</dt><dd>''</dd></dl>\n"
      ],
      "text/latex": [
       "\\begin{description*}\n",
       "\\item[http\\textbackslash{}\\_proxy] ''\n",
       "\\item[https\\textbackslash{}\\_proxy] ''\n",
       "\\item[SSL\\textbackslash{}\\_CERT\\textbackslash{}\\_FILE] ''\n",
       "\\item[CURL\\textbackslash{}\\_CA\\textbackslash{}\\_BUNDLE] ''\n",
       "\\end{description*}\n"
      ],
      "text/markdown": [
       "http_proxy\n",
       ":   ''https_proxy\n",
       ":   ''SSL_CERT_FILE\n",
       ":   ''CURL_CA_BUNDLE\n",
       ":   ''\n",
       "\n"
      ],
      "text/plain": [
       "    http_proxy    https_proxy  SSL_CERT_FILE CURL_CA_BUNDLE \n",
       "            \"\"             \"\"             \"\"             \"\" "
      ]
     },
     "metadata": {},
     "output_type": "display_data"
    }
   ],
   "source": [
    "cat(\"R:\", R.version.string, \"\\n\")\n",
    "print(.libPaths())                           # erster Pfad muss beschreibbar sein\n",
    "lib <- .libPaths()[1]\n",
    "tryCatch({\n",
    "  dir.create(file.path(lib, \".permtest\"), showWarnings = FALSE)\n",
    "  file.create(file.path(lib, \".permtest\", \"x\"))\n",
    "  message(\"Write test: \", file.exists(file.path(lib, \".permtest\", \"x\")))\n",
    "}, error = function(e) message(\"Write test failed: \", e$message))\n",
    "\n",
    "print(capabilities())                        # libcurl=TRUE ist wichtig\n",
    "Sys.getenv(c(\"http_proxy\",\"https_proxy\",\"SSL_CERT_FILE\",\"CURL_CA_BUNDLE\"))\n",
    "\n",
    "         "
   ]
  },
  {
   "cell_type": "code",
   "execution_count": 8,
   "id": "10e563eb-8ac9-4d0a-bc57-e54c8b8d2bc9",
   "metadata": {},
   "outputs": [
    {
     "ename": "ERROR",
     "evalue": "Error in library(hipathia): there is no package called ‘hipathia’\n",
     "output_type": "error",
     "traceback": [
      "Error in library(hipathia): there is no package called ‘hipathia’\nTraceback:\n",
      "1. stop(packageNotFoundError(package, lib.loc, sys.call()))"
     ]
    }
   ],
   "source": [
    "library(hipathia)\n",
    "library(SummarizedExperiment)\n",
    "library(limma)\n",
    "capabilities()[\"libxml\"]  # sollte jetzt TRUE sein\n",
    "\n"
   ]
  },
  {
   "cell_type": "code",
   "execution_count": 1,
   "id": "918d50d8-791b-4368-b15c-d5e31788dc59",
   "metadata": {},
   "outputs": [
    {
     "ename": "ERROR",
     "evalue": "Error in library(hipathia): there is no package called ‘hipathia’\n",
     "output_type": "error",
     "traceback": [
      "Error in library(hipathia): there is no package called ‘hipathia’\nTraceback:\n",
      "1. stop(packageNotFoundError(package, lib.loc, sys.call()))"
     ]
    }
   ],
   "source": [
    "library(hipathia)\n",
    "library(SummarizedExperiment)\n",
    "library(limma)\n",
    "\n",
    "# Prüfen, dass du die richtige R-Lib nutzt:\n",
    "R.home()\n",
    ".libPaths()\n",
    "sessionInfo()\n",
    "capabilities()[\"libxml\"]   # sollte TRUE sein\n",
    "\n"
   ]
  },
  {
   "cell_type": "code",
   "execution_count": 2,
   "id": "c1b3308f-f96d-462b-96eb-53fa44e51ea9",
   "metadata": {},
   "outputs": [
    {
     "ename": "ERROR",
     "evalue": "Error in parse(text = input): <text>:1:7: unexpected symbol\n1: conda activate\n          ^\n",
     "output_type": "error",
     "traceback": [
      "Error in parse(text = input): <text>:1:7: unexpected symbol\n1: conda activate\n          ^\nTraceback:\n"
     ]
    }
   ],
   "source": [
    "conda activate jlab-r\n",
    "which R\n",
    "R --version\n"
   ]
  },
  {
   "cell_type": "code",
   "execution_count": 3,
   "id": "7caade9b-17af-4026-a23c-702360ec05f3",
   "metadata": {},
   "outputs": [
    {
     "ename": "ERROR",
     "evalue": "Error in library(hipathia): there is no package called ‘hipathia’\n",
     "output_type": "error",
     "traceback": [
      "Error in library(hipathia): there is no package called ‘hipathia’\nTraceback:\n",
      "1. stop(packageNotFoundError(package, lib.loc, sys.call()))"
     ]
    }
   ],
   "source": [
    "library(hipathia)\n",
    "library(SummarizedExperiment)\n",
    "library(limma)\n",
    "\n",
    "# Minimal-Smoke-Test\n",
    "set.seed(1)\n",
    "mat <- matrix(abs(rnorm(50*6)), 50, 6,\n",
    "              dimnames=list(paste0(\"ENSG\",1:50), paste0(\"S\",1:6)))\n",
    "tr  <- hipathia::translate_data(mat, species=\"hsa\")\n",
    "exp <- hipathia::normalize_data(tr$exp)\n",
    "pw  <- hipathia::load_pathways(\"hsa\")\n",
    "res <- hipathia::hipathia(exp, pw, decompose=FALSE)\n",
    "dim(hipathia::get_paths_data(res, matrix=TRUE))\n"
   ]
  },
  {
   "cell_type": "code",
   "execution_count": 1,
   "id": "fedadb85-28cb-48d5-b8ca-6c5bc3ac4a68",
   "metadata": {},
   "outputs": [
    {
     "ename": "ERROR",
     "evalue": "Error in loadNamespace(x): there is no package called ‘hipathia’\n",
     "output_type": "error",
     "traceback": [
      "Error in loadNamespace(x): there is no package called ‘hipathia’\nTraceback:\n",
      "1. withRestarts(stop(cond), retry_loadNamespace = function() NULL)",
      "2. withOneRestart(expr, restarts[[1L]])",
      "3. doWithOneRestart(return(expr), restart)",
      "4. stop(cond)"
     ]
    }
   ],
   "source": [
    "set.seed(1)\n",
    "mat <- matrix(abs(rnorm(50*6)), 50, 6,\n",
    "              dimnames = list(paste0(\"ENSG\",1:50), paste0(\"S\",1:6)))\n",
    "tr <- hipathia::translate_data(mat, species=\"hsa\")\n",
    "exp_data <- hipathia::normalize_data(tr$exp)\n",
    "pw <- hipathia::load_pathways(\"hsa\")\n",
    "res <- hipathia::hipathia(exp_data, pw, decompose=FALSE)\n",
    "dim(hipathia::get_paths_data(res, matrix=TRUE))\n",
    "\n"
   ]
  },
  {
   "cell_type": "code",
   "execution_count": 1,
   "id": "a0ef3c68-ab98-4354-9678-ae4fe3a7c36d",
   "metadata": {},
   "outputs": [
    {
     "ename": "ERROR",
     "evalue": "Error in parse(text = input): <text>:1:9: unexpected symbol\n1: sourece Script\n            ^\n",
     "output_type": "error",
     "traceback": [
      "Error in parse(text = input): <text>:1:9: unexpected symbol\n1: sourece Script\n            ^\nTraceback:\n"
     ]
    }
   ],
   "source": [
    "sourece Script Hipathia.R\n"
   ]
  },
  {
   "cell_type": "code",
   "execution_count": 2,
   "id": "196cfaa3-aa33-4977-b613-3e8cd6191dd7",
   "metadata": {},
   "outputs": [
    {
     "data": {
      "text/plain": [
       "R version 4.4.3 (2025-02-28)\n",
       "Platform: x86_64-conda-linux-gnu\n",
       "Running under: Rocky Linux 8.5 (Green Obsidian)\n",
       "\n",
       "Matrix products: default\n",
       "BLAS/LAPACK: /mnt/lustre/home/bdubiel/software/miniconda/envs/hipathia-r/lib/libopenblasp-r0.3.30.so;  LAPACK version 3.12.0\n",
       "\n",
       "locale:\n",
       " [1] LC_CTYPE=en_US.UTF-8       LC_NUMERIC=C              \n",
       " [3] LC_TIME=en_US.UTF-8        LC_COLLATE=en_US.UTF-8    \n",
       " [5] LC_MONETARY=en_US.UTF-8    LC_MESSAGES=en_US.UTF-8   \n",
       " [7] LC_PAPER=en_US.UTF-8       LC_NAME=C                 \n",
       " [9] LC_ADDRESS=C               LC_TELEPHONE=C            \n",
       "[11] LC_MEASUREMENT=en_US.UTF-8 LC_IDENTIFICATION=C       \n",
       "\n",
       "time zone: Europe/Madrid\n",
       "tzcode source: system (glibc)\n",
       "\n",
       "attached base packages:\n",
       "[1] stats     graphics  grDevices utils     datasets  methods   base     \n",
       "\n",
       "loaded via a namespace (and not attached):\n",
       " [1] digest_0.6.37     IRdisplay_1.1     base64enc_0.1-3   fastmap_1.2.0    \n",
       " [5] glue_1.8.0        htmltools_0.5.8.1 repr_1.1.7        lifecycle_1.0.4  \n",
       " [9] cli_3.6.5         vctrs_0.6.5       pbdZMQ_0.3-14     compiler_4.4.3   \n",
       "[13] tools_4.4.3       evaluate_1.0.5    pillar_1.11.1     rlang_1.1.6      \n",
       "[17] jsonlite_2.0.0    crayon_1.5.3      IRkernel_1.3.2    uuid_1.2-1       "
      ]
     },
     "metadata": {},
     "output_type": "display_data"
    }
   ],
   "source": [
    "sessionInfo()\n"
   ]
  },
  {
   "cell_type": "code",
   "execution_count": 3,
   "id": "dac982af-3441-4fc0-a779-67513f8cf82b",
   "metadata": {},
   "outputs": [
    {
     "name": "stderr",
     "output_type": "stream",
     "text": [
      "Loading required package: igraph\n",
      "\n",
      "\n",
      "Attaching package: ‘igraph’\n",
      "\n",
      "\n",
      "The following objects are masked from ‘package:stats’:\n",
      "\n",
      "    decompose, spectrum\n",
      "\n",
      "\n",
      "The following object is masked from ‘package:base’:\n",
      "\n",
      "    union\n",
      "\n",
      "\n",
      "Loading required package: AnnotationHub\n",
      "\n",
      "Loading required package: BiocGenerics\n",
      "\n",
      "\n",
      "Attaching package: ‘BiocGenerics’\n",
      "\n",
      "\n",
      "The following objects are masked from ‘package:igraph’:\n",
      "\n",
      "    normalize, path, union\n",
      "\n",
      "\n",
      "The following objects are masked from ‘package:stats’:\n",
      "\n",
      "    IQR, mad, sd, var, xtabs\n",
      "\n",
      "\n",
      "The following objects are masked from ‘package:base’:\n",
      "\n",
      "    anyDuplicated, aperm, append, as.data.frame, basename, cbind,\n",
      "    colnames, dirname, do.call, duplicated, eval, evalq, Filter, Find,\n",
      "    get, grep, grepl, intersect, is.unsorted, lapply, Map, mapply,\n",
      "    match, mget, order, paste, pmax, pmax.int, pmin, pmin.int,\n",
      "    Position, rank, rbind, Reduce, rownames, sapply, saveRDS, setdiff,\n",
      "    table, tapply, union, unique, unsplit, which.max, which.min\n",
      "\n",
      "\n",
      "Loading required package: BiocFileCache\n",
      "\n",
      "Loading required package: dbplyr\n",
      "\n",
      "Loading required package: MultiAssayExperiment\n",
      "\n",
      "Loading required package: SummarizedExperiment\n",
      "\n",
      "Loading required package: MatrixGenerics\n",
      "\n",
      "Loading required package: matrixStats\n",
      "\n",
      "\n",
      "Attaching package: ‘MatrixGenerics’\n",
      "\n",
      "\n",
      "The following objects are masked from ‘package:matrixStats’:\n",
      "\n",
      "    colAlls, colAnyNAs, colAnys, colAvgsPerRowSet, colCollapse,\n",
      "    colCounts, colCummaxs, colCummins, colCumprods, colCumsums,\n",
      "    colDiffs, colIQRDiffs, colIQRs, colLogSumExps, colMadDiffs,\n",
      "    colMads, colMaxs, colMeans2, colMedians, colMins, colOrderStats,\n",
      "    colProds, colQuantiles, colRanges, colRanks, colSdDiffs, colSds,\n",
      "    colSums2, colTabulates, colVarDiffs, colVars, colWeightedMads,\n",
      "    colWeightedMeans, colWeightedMedians, colWeightedSds,\n",
      "    colWeightedVars, rowAlls, rowAnyNAs, rowAnys, rowAvgsPerColSet,\n",
      "    rowCollapse, rowCounts, rowCummaxs, rowCummins, rowCumprods,\n",
      "    rowCumsums, rowDiffs, rowIQRDiffs, rowIQRs, rowLogSumExps,\n",
      "    rowMadDiffs, rowMads, rowMaxs, rowMeans2, rowMedians, rowMins,\n",
      "    rowOrderStats, rowProds, rowQuantiles, rowRanges, rowRanks,\n",
      "    rowSdDiffs, rowSds, rowSums2, rowTabulates, rowVarDiffs, rowVars,\n",
      "    rowWeightedMads, rowWeightedMeans, rowWeightedMedians,\n",
      "    rowWeightedSds, rowWeightedVars\n",
      "\n",
      "\n",
      "Loading required package: GenomicRanges\n",
      "\n",
      "Loading required package: stats4\n",
      "\n",
      "Loading required package: S4Vectors\n",
      "\n",
      "\n",
      "Attaching package: ‘S4Vectors’\n",
      "\n",
      "\n",
      "The following object is masked from ‘package:utils’:\n",
      "\n",
      "    findMatches\n",
      "\n",
      "\n",
      "The following objects are masked from ‘package:base’:\n",
      "\n",
      "    expand.grid, I, unname\n",
      "\n",
      "\n",
      "Loading required package: IRanges\n",
      "\n",
      "Loading required package: GenomeInfoDb\n",
      "\n",
      "Loading required package: Biobase\n",
      "\n",
      "Welcome to Bioconductor\n",
      "\n",
      "    Vignettes contain introductory material; view with\n",
      "    'browseVignettes()'. To cite Bioconductor, see\n",
      "    'citation(\"Biobase\")', and for packages 'citation(\"pkgname\")'.\n",
      "\n",
      "\n",
      "\n",
      "Attaching package: ‘Biobase’\n",
      "\n",
      "\n",
      "The following object is masked from ‘package:MatrixGenerics’:\n",
      "\n",
      "    rowMedians\n",
      "\n",
      "\n",
      "The following objects are masked from ‘package:matrixStats’:\n",
      "\n",
      "    anyMissing, rowMedians\n",
      "\n",
      "\n",
      "The following object is masked from ‘package:AnnotationHub’:\n",
      "\n",
      "    cache\n",
      "\n",
      "\n"
     ]
    }
   ],
   "source": [
    "library(hipathia)\n"
   ]
  },
  {
   "cell_type": "code",
   "execution_count": 4,
   "id": "baf7a1a3-7525-4080-a481-8408bc783361",
   "metadata": {},
   "outputs": [
    {
     "data": {
      "text/html": [
       "<style>\n",
       ".list-inline {list-style: none; margin:0; padding: 0}\n",
       ".list-inline>li {display: inline-block}\n",
       ".list-inline>li:not(:last-child)::after {content: \"\\00b7\"; padding: 0 .5ex}\n",
       "</style>\n",
       "<ol class=list-inline><li>3</li><li>4</li></ol>\n"
      ],
      "text/latex": [
       "\\begin{enumerate*}\n",
       "\\item 3\n",
       "\\item 4\n",
       "\\end{enumerate*}\n"
      ],
      "text/markdown": [
       "1. 3\n",
       "2. 4\n",
       "\n",
       "\n"
      ],
      "text/plain": [
       "[1] 3 4"
      ]
     },
     "metadata": {},
     "output_type": "display_data"
    },
    {
     "data": {
      "text/html": [
       "<style>\n",
       ".list-inline {list-style: none; margin:0; padding: 0}\n",
       ".list-inline>li {display: inline-block}\n",
       ".list-inline>li:not(:last-child)::after {content: \"\\00b7\"; padding: 0 .5ex}\n",
       "</style>\n",
       "<ol class=list-inline><li>'ENSG00000141510'</li><li>'ENSG00000146648'</li><li>'ENSG00000012048'</li></ol>\n"
      ],
      "text/latex": [
       "\\begin{enumerate*}\n",
       "\\item 'ENSG00000141510'\n",
       "\\item 'ENSG00000146648'\n",
       "\\item 'ENSG00000012048'\n",
       "\\end{enumerate*}\n"
      ],
      "text/markdown": [
       "1. 'ENSG00000141510'\n",
       "2. 'ENSG00000146648'\n",
       "3. 'ENSG00000012048'\n",
       "\n",
       "\n"
      ],
      "text/plain": [
       "[1] \"ENSG00000141510\" \"ENSG00000146648\" \"ENSG00000012048\""
      ]
     },
     "metadata": {},
     "output_type": "display_data"
    }
   ],
   "source": [
    "# 3 echte Ensembl-IDs: TP53, EGFR, BRCA1\n",
    "genes <- c(\"ENSG00000141510\",\"ENSG00000146648\",\"ENSG00000012048\")\n",
    "mat <- matrix(abs(rnorm(3*4)), nrow=3,\n",
    "              dimnames = list(genes, paste0(\"S\",1:4)))\n",
    "dim(mat); rownames(mat)\n"
   ]
  },
  {
   "cell_type": "code",
   "execution_count": 5,
   "id": "1da49c45-9271-4b94-8cca-e86738fdecdd",
   "metadata": {},
   "outputs": [
    {
     "name": "stdout",
     "output_type": "stream",
     "text": [
      "translated ids = 3 (1) \n",
      "untranslated ids = 0 (0) \n",
      "multihit ids = 0 (0) \n",
      " num [1:3, 1:4] 0.2873 0.8036 1.1785 0.0489 0.8221 ...\n",
      " - attr(*, \"dimnames\")=List of 2\n",
      " - attr(*, \"translation\")=List of 12\n"
     ]
    }
   ],
   "source": [
    "tr <- hipathia::translate_data(mat, species = \"hsa\")\n",
    "str(tr, max.level = 1)\n",
    "\n"
   ]
  },
  {
   "cell_type": "code",
   "execution_count": null,
   "id": "3f94201e-8de4-4673-b227-099d331b34ad",
   "metadata": {},
   "outputs": [],
   "source": [
    "source "
   ]
  }
 ],
 "metadata": {
  "kernelspec": {
   "display_name": "R (hipathia-r)",
   "language": "R",
   "name": "hipathia-r"
  },
  "language_info": {
   "codemirror_mode": "r",
   "file_extension": ".r",
   "mimetype": "text/x-r-source",
   "name": "R",
   "pygments_lexer": "r",
   "version": "4.4.3"
  }
 },
 "nbformat": 4,
 "nbformat_minor": 5
}
