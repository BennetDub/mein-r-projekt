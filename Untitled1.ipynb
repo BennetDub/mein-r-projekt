{
 "cells": [
  {
   "cell_type": "code",
   "execution_count": 1,
   "id": "16849809-8df0-4658-8853-6be25dcb5017",
   "metadata": {},
   "outputs": [
    {
     "ename": "ERROR",
     "evalue": "Error in library(hipathia): there is no package called ‘hipathia’\n",
     "output_type": "error",
     "traceback": [
      "Error in library(hipathia): there is no package called ‘hipathia’\nTraceback:\n",
      "1. stop(packageNotFoundError(package, lib.loc, sys.call()))"
     ]
    }
   ],
   "source": [
    "library(hipathia)\n",
    "library(SummarizedExperiment)\n",
    "library(limma)\n",
    "\n",
    "# Minimal-Smoke-Test\n",
    "set.seed(1)\n",
    "mat <- matrix(abs(rnorm(50*6)), 50, 6,\n",
    "              dimnames=list(paste0(\"ENSG\",1:50), paste0(\"S\",1:6)))\n",
    "tr  <- hipathia::translate_data(mat, species=\"hsa\")\n",
    "exp <- hipathia::normalize_data(tr$exp)\n",
    "pw  <- hipathia::load_pathways(\"hsa\")\n",
    "res <- hipathia::hipathia(exp, pw, decompose=FALSE)\n",
    "dim(hipathia::get_paths_data(res, matrix=TRUE))\n"
   ]
  }
 ],
 "metadata": {
  "kernelspec": {
   "display_name": "R",
   "language": "R",
   "name": "ir"
  },
  "language_info": {
   "codemirror_mode": "r",
   "file_extension": ".r",
   "mimetype": "text/x-r-source",
   "name": "R",
   "pygments_lexer": "r",
   "version": "4.5.1"
  }
 },
 "nbformat": 4,
 "nbformat_minor": 5
}
